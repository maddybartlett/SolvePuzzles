{
 "cells": [
  {
   "cell_type": "markdown",
   "id": "4bf484bd",
   "metadata": {},
   "source": [
    "# Clock Angle Problem\n",
    "\n",
    "Clock Angle Problem: Given time in hh:mm format in 24-hour notation, calculate the shorter angle between the hour and minute hand in an analog clock."
   ]
  },
  {
   "cell_type": "code",
   "execution_count": 4,
   "id": "ed1bff8a",
   "metadata": {},
   "outputs": [],
   "source": [
    "import numpy as np\n",
    "#time = input(\"Enter time in HH:MM\\n\")"
   ]
  },
  {
   "cell_type": "code",
   "execution_count": 13,
   "id": "13ec67fb",
   "metadata": {},
   "outputs": [],
   "source": [
    "def solve_clock_angle(time):\n",
    "    '''\n",
    "    Function to return the shortest angle between the hour and minute hand of an analog clock, \n",
    "    given the time in 24 hour HH:MM format\n",
    "    \n",
    "    Input: time in HH:MM format\n",
    "    Output: angle in degrees\n",
    "    '''\n",
    "    \n",
    "    ## split the time into hours and minutes\n",
    "    hour, mins = [int(i) for i in time.split(\":\")]\n",
    "\n",
    "    ## if the hour is greater than or equal to 12, subtract 12 \n",
    "    if hour >= 12:\n",
    "        hour -= 12\n",
    "    ## get the angle of the hour hand\n",
    "    hourAngle = hour * 30\n",
    "    ## account for the fact that the hour hand moves throughout the hour\n",
    "    ## first calculate the proportion of the hour that's passed\n",
    "    mins_prop = mins/60\n",
    "    ## now increment the hour hand \n",
    "    hourAngle += mins_prop * 30\n",
    "\n",
    "    ## get the angle of the minute hand\n",
    "    minsAngle = mins * 6\n",
    "\n",
    "    ## calculate the difference between the angles\n",
    "    angle = np.abs(hourAngle - minsAngle)\n",
    "    ## calculate the shortest angle\n",
    "    short_angle = min(angle, 360-angle)\n",
    "    \n",
    "    ## return result\n",
    "    return short_angle"
   ]
  },
  {
   "cell_type": "code",
   "execution_count": 16,
   "id": "1bb6a50e",
   "metadata": {},
   "outputs": [
    {
     "data": {
      "text/plain": [
       "15.0"
      ]
     },
     "execution_count": 16,
     "metadata": {},
     "output_type": "execute_result"
    }
   ],
   "source": [
    "time = '5:30'\n",
    "angle = solve_clock_angle(time)\n",
    "angle"
   ]
  },
  {
   "cell_type": "code",
   "execution_count": null,
   "id": "1c250fc7",
   "metadata": {},
   "outputs": [],
   "source": []
  }
 ],
 "metadata": {
  "kernelspec": {
   "display_name": "Python 3 (ipykernel)",
   "language": "python",
   "name": "python3"
  },
  "language_info": {
   "codemirror_mode": {
    "name": "ipython",
    "version": 3
   },
   "file_extension": ".py",
   "mimetype": "text/x-python",
   "name": "python",
   "nbconvert_exporter": "python",
   "pygments_lexer": "ipython3",
   "version": "3.9.2"
  }
 },
 "nbformat": 4,
 "nbformat_minor": 5
}
