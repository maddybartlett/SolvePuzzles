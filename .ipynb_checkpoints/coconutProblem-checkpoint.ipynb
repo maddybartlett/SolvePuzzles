{
 "cells": [
  {
   "cell_type": "markdown",
   "id": "b8b1e99b",
   "metadata": {},
   "source": [
    "# The Sailors and the Coconuts Problem"
   ]
  },
  {
   "cell_type": "markdown",
   "id": "ee047613",
   "metadata": {},
   "source": [
    "Five men and a monkey were shipwrecked on an island. They spent the first day gathering coconuts. During the night, one man woke up and decided to take his share of the coconuts. He divided them into five piles. One coconut was left over so he gave it to the monkey, then hid his share, put the rest back together, and went back to sleep. <br>\n",
    "Soon a second man woke up and did the same thing. After dividing the coconuts into five piles, one coconut was left over which he gave to the monkey. He then hid his share, put the rest back together, and went back to bed. The third, fourth, and fifth man followed exactly the same procedure. The next morning, after they all woke up, they divided the remaining coconuts into five equal shares. This time no coconuts were left over. <br>\n",
    "How many coconuts were there in the original pile?"
   ]
  },
  {
   "cell_type": "code",
   "execution_count": 1,
   "id": "74a061a8",
   "metadata": {},
   "outputs": [],
   "source": [
    "import numpy as np\n",
    "\n",
    "def get_coconut_formula(nSailors=5):\n",
    "    '''\n",
    "    Function for generating the Diophantine equation for the solution given the number of sailors\n",
    "    Input: number of sailors\n",
    "    Output: Diophantine equation xNc = kV + y where:\n",
    "        - x, k and y = constants \n",
    "        - Nc = the total number of coconuts in the original pile\n",
    "        - V = the final number of coconuts each sailor receives in the morning after the final division\n",
    "    '''\n",
    "    \n",
    "    nS = nSailors\n",
    "    nS_1 = nS - 1\n",
    "    \n",
    "    # calculate y\n",
    "    num = ((nS/(nS-1)) ** (nS)) - 1\n",
    "    denum = ((nS-1) ** (nS+1))\n",
    "    y = int(num * denum)\n",
    "\n",
    "    # calculate x\n",
    "    x = nS_1**nS \n",
    "    \n",
    "    # calculate k\n",
    "    k = nS**(nS+1)\n",
    "    \n",
    "    print(f\"The equation for finding the number of coconuts is {x}Nc = {k}V + {y}\")\n",
    "    return x,k,y"
   ]
  },
  {
   "cell_type": "code",
   "execution_count": 2,
   "id": "fe56f423",
   "metadata": {},
   "outputs": [],
   "source": [
    "def find_min_coconuts(nSailors = 5, valMax = 1000000):\n",
    "    '''\n",
    "    Function for finding the minimum number of coconuts required to solve the puzzle. \n",
    "    Input: number of sailors, a maximum value to test\n",
    "    Output: the found minimum number of coconuts needed and a description of the solution.\n",
    "    \n",
    "    This function works by creating a list of candidate values for the total number of coconuts \n",
    "    and checking each one until a solution is found. \n",
    "    \n",
    "    ToDo: currently this function can be slow. See if there's a way to approach it that doesn't require looping. \n",
    "    '''\n",
    "    \n",
    "    nS = nSailors # number of sailors\n",
    "    Vals = np.arange(nS+1, valMax, nS) # candidate values for total number of coconuts \n",
    "    not_found = True # track progress to exit loop\n",
    "\n",
    "    for v in Vals:\n",
    "        if not_found:\n",
    "            # Lists for saving values\n",
    "            pile_list = []\n",
    "            per_sailor_list = []\n",
    "\n",
    "            for t in range(nS):\n",
    "                # First get the final number of coconuts per person and the size of the final pile\n",
    "                if t == 0:\n",
    "                    pps = (v - 1)/ nS\n",
    "                    pile = v\n",
    "\n",
    "                else:\n",
    "                    # calculate the size of the pile left by the previous person\n",
    "                    pile = pps * (nS -1)\n",
    "                    # calculate the number of coconuts per person \n",
    "                    pps = (pile - 1) / nS\n",
    "\n",
    "                # if the coconuts can's be divided evenly, exit the loop and try a new number\n",
    "                if pps % 1 != 0 or pps < nS:\n",
    "                    break\n",
    "\n",
    "                # add data to the lists\n",
    "                per_sailor_list.append(pps)\n",
    "                pile_list.append(pile)\n",
    "\n",
    "                # on the final loop...\n",
    "                if t == nS-1:\n",
    "                    # set the exit marker\n",
    "                    not_found = False\n",
    "\n",
    "        # if we exited the loop early report the solution found\n",
    "        if not_found == False:\n",
    "            # get total number of coconuts \n",
    "            nC = pile_list[0]\n",
    "            # report answer\n",
    "            print(f\"The smallest possible number of coconuts is {int(nC)}\")\n",
    "            print()\n",
    "            # print out each stage of the solution\n",
    "            for i in range(len(pile_list)):\n",
    "                p = int(pile_list[i])\n",
    "                pps = int(per_sailor_list[i])\n",
    "                print(f\"A sailor wakes up and divides the {p} coconuts so that each sailor would get {pps} coconuts.\")\n",
    "                print(f\"{pps}x{nS}={pps*nS}, so they give {p-(pps*nS)} coconut to the monkey.\")\n",
    "                print(f\"They then hide their share, leaving {(pps*nS)}-{(pps)}={pps*(nS-1)} coconuts.\")\n",
    "                print()\n",
    "            print(f\"In the morning the sailors all wake up to find {pps*(nS-1)} coconuts left in the pile, \")\n",
    "            print(f\"which they split evenly to get an additional {int((pps*(nS-1))/nS)} coconuts each.\")\n",
    "            break\n",
    "            \n",
    "    # if no solution is found\n",
    "    if not_found == True:\n",
    "        # empty the data and output values\n",
    "        pile_list = []\n",
    "        per_sailor_list = []\n",
    "        v = None\n",
    "        # print that function failed and suggest increasing valMax\n",
    "        print('No solution was found. Try increasing valMax.')\n",
    "    \n",
    "    #return the saved data and the final number of coconuts \n",
    "    return pile_list, per_sailor_list, v \n",
    "\n",
    "def find_min_coconuts_simple(nS):\n",
    "    '''\n",
    "    Function for finding the minimum number of coconuts required to solve the puzzle. \n",
    "    Input: number of sailors (must be > 2)\n",
    "    Output: the found minimum number of coconuts needed\n",
    "    \n",
    "    This function is more elegant and quicker than the one above \n",
    "    but only works when there are more than 2 sailors.\n",
    "    '''\n",
    "    # check number of sailors is > 2\n",
    "    if nS > 2:\n",
    "        # calculate number of coconuts\n",
    "        nC = (nS**nS) - (nS-1)\n",
    "        print(f\"The smallest possible number of coconuts is {int(nC)}\")\n",
    "        return nC\n",
    "    # raise error if num sailors =< 2\n",
    "    else:\n",
    "        raise ValueError('This function only works when there are more than 2 sailors.')"
   ]
  },
  {
   "cell_type": "code",
   "execution_count": 3,
   "id": "06168332",
   "metadata": {},
   "outputs": [
    {
     "name": "stdout",
     "output_type": "stream",
     "text": [
      "The equation for finding the number of coconuts is 1024Nc = 15625V + 8404\n"
     ]
    }
   ],
   "source": [
    "nS = 5\n",
    "x, k, y = get_coconut_formula(nS)"
   ]
  },
  {
   "cell_type": "code",
   "execution_count": 4,
   "id": "f25d6027",
   "metadata": {},
   "outputs": [
    {
     "name": "stdout",
     "output_type": "stream",
     "text": [
      "The smallest possible number of coconuts is 3121\n",
      "\n",
      "A sailor wakes up and divides the 3121 coconuts so that each sailor would get 624 coconuts.\n",
      "624x5=3120, so they give 1 coconut to the monkey.\n",
      "They then hide their share, leaving 3120-624=2496 coconuts.\n",
      "\n",
      "A sailor wakes up and divides the 2496 coconuts so that each sailor would get 499 coconuts.\n",
      "499x5=2495, so they give 1 coconut to the monkey.\n",
      "They then hide their share, leaving 2495-499=1996 coconuts.\n",
      "\n",
      "A sailor wakes up and divides the 1996 coconuts so that each sailor would get 399 coconuts.\n",
      "399x5=1995, so they give 1 coconut to the monkey.\n",
      "They then hide their share, leaving 1995-399=1596 coconuts.\n",
      "\n",
      "A sailor wakes up and divides the 1596 coconuts so that each sailor would get 319 coconuts.\n",
      "319x5=1595, so they give 1 coconut to the monkey.\n",
      "They then hide their share, leaving 1595-319=1276 coconuts.\n",
      "\n",
      "A sailor wakes up and divides the 1276 coconuts so that each sailor would get 255 coconuts.\n",
      "255x5=1275, so they give 1 coconut to the monkey.\n",
      "They then hide their share, leaving 1275-255=1020 coconuts.\n",
      "\n",
      "In the morning the sailors all wake up to find 1020 coconuts left in the pile, \n",
      "which they split evenly to get an additional 204 coconuts each.\n"
     ]
    }
   ],
   "source": [
    "pile_list, per_sailor_list, v = find_min_coconuts(nS)"
   ]
  },
  {
   "cell_type": "code",
   "execution_count": 5,
   "id": "82d0a02f",
   "metadata": {},
   "outputs": [
    {
     "name": "stdout",
     "output_type": "stream",
     "text": [
      "The smallest possible number of coconuts is 3121\n"
     ]
    }
   ],
   "source": [
    "nC = find_min_coconuts_simple(nS)"
   ]
  },
  {
   "cell_type": "code",
   "execution_count": null,
   "id": "34c981fc",
   "metadata": {},
   "outputs": [],
   "source": []
  }
 ],
 "metadata": {
  "kernelspec": {
   "display_name": "Python 3 (ipykernel)",
   "language": "python",
   "name": "python3"
  },
  "language_info": {
   "codemirror_mode": {
    "name": "ipython",
    "version": 3
   },
   "file_extension": ".py",
   "mimetype": "text/x-python",
   "name": "python",
   "nbconvert_exporter": "python",
   "pygments_lexer": "ipython3",
   "version": "3.9.2"
  }
 },
 "nbformat": 4,
 "nbformat_minor": 5
}
